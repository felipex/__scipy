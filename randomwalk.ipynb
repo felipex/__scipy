{
 "metadata": {
  "name": "randomwalk"
 },
 "nbformat": 3,
 "nbformat_minor": 0,
 "worksheets": [
  {
   "cells": [
    {
     "cell_type": "code",
     "collapsed": false,
     "input": [
      "import numpy as np\n",
      "import matplotlib.pyplot as plt\n",
      "import scipy\n",
      "import pandas as pd"
     ],
     "language": "python",
     "metadata": {},
     "outputs": [],
     "prompt_number": 108
    },
    {
     "cell_type": "code",
     "collapsed": false,
     "input": [
      "def rw1d(N):\n",
      "    probs1 = np.random.uniform(0, 1, N)\n",
      "    probs = [1 if i >= 0.5 else -1 for i in probs1 ]\n",
      "    l = np.cumsum(probs)\n",
      "    return l\n"
     ],
     "language": "python",
     "metadata": {},
     "outputs": [],
     "prompt_number": 178
    },
    {
     "cell_type": "code",
     "collapsed": false,
     "input": [
      "N = 200\n",
      "\n",
      "pp = rw1d(N)\n",
      "\n",
      "plt.plot(pp)"
     ],
     "language": "python",
     "metadata": {},
     "outputs": [
      {
       "output_type": "pyout",
       "prompt_number": 218,
       "text": [
        "[<matplotlib.lines.Line2D at 0x15bfd410>]"
       ]
      },
      {
       "output_type": "display_data",
       "png": "[encoded data removed]"
      }
     ],
     "prompt_number": 218
    },
    {
     "cell_type": "code",
     "collapsed": false,
     "input": [
      "\n",
      "#histograma\n",
      "#a = pd.value_counts(pd.Series(pp))\n",
      "#v = np.array([i for i in a])\n",
      "#k = np.array(a.keys())\n",
      "#plt.bar(k,v)\n",
      "probs1 = np.random.uniform(0, 1, (10000,200))\n",
      "probs = [[1 if i >= 0.5 else -1 for i in pbs] for pbs in probs1]\n",
      "pp = [np.sum(pbs1) for pbs1 in probs ]\n",
      "a = pd.value_counts(pd.Series(pp))\n",
      "v = np.array([i for i in a])\n",
      "k = np.array(a.keys())\n",
      "plt.bar(k,v)"
     ],
     "language": "python",
     "metadata": {},
     "outputs": [
      {
       "output_type": "pyout",
       "prompt_number": 222,
       "text": [
        "<Container object of 54 artists>"
       ]
      },
      {
       "output_type": "display_data",
       "png": "[encoded data removed]"
      }
     ],
     "prompt_number": 222
    },
    {
     "cell_type": "code",
     "collapsed": false,
     "input": [
      "XXXXXXXXXXXXXXXXXXXXXXXXXXXXXXXXXXXXXXXXXXXXXXXXXXXXXXXXXXXXXXXXXXXXXXXXXXXXXXXXXXXXXXXXXXXXXXXXXXXXXXXXXXXXXXXXXXXXXXXXXXx\n"
     ],
     "language": "python",
     "metadata": {},
     "outputs": []
    },
    {
     "cell_type": "code",
     "collapsed": false,
     "input": [
      "np.random.uniform(0,1,(10,5))\n"
     ],
     "language": "python",
     "metadata": {},
     "outputs": [
      {
       "output_type": "pyout",
       "prompt_number": 217,
       "text": [
        "array([[ 0.35884074,  0.30056578,  0.12857593,  0.63205249,  0.08335374],\n",
        "       [ 0.51626983,  0.41785941,  0.15942894,  0.83729267,  0.00192616],\n",
        "       [ 0.38698692,  0.79746577,  0.3477104 ,  0.12259407,  0.23270144],\n",
        "       [ 0.34033358,  0.71073024,  0.43769699,  0.6780696 ,  0.01061012],\n",
        "       [ 0.88423557,  0.00194739,  0.15029886,  0.50392499,  0.45361994],\n",
        "       [ 0.81746298,  0.37432284,  0.80034347,  0.83564688,  0.87537433],\n",
        "       [ 0.59404113,  0.97186549,  0.8569595 ,  0.5805515 ,  0.84250929],\n",
        "       [ 0.13259535,  0.55579608,  0.39476628,  0.72384361,  0.21299068],\n",
        "       [ 0.78742148,  0.48188382,  0.42795349,  0.47540614,  0.14430749],\n",
        "       [ 0.71588052,  0.49057825,  0.53688022,  0.21219103,  0.17688612]])"
       ]
      }
     ],
     "prompt_number": 217
    },
    {
     "cell_type": "code",
     "collapsed": false,
     "input": [
      "import pandas as pd\n",
      "x = np.array([1,1,1,2,2,2,5,25,1,1])\n",
      "pd.value_counts(pd.Series(x))"
     ],
     "language": "python",
     "metadata": {},
     "outputs": [
      {
       "output_type": "pyout",
       "prompt_number": 118,
       "text": [
        "1     5\n",
        "2     3\n",
        "25    1\n",
        "5     1\n",
        "dtype: int64"
       ]
      }
     ],
     "prompt_number": 118
    },
    {
     "cell_type": "code",
     "collapsed": false,
     "input": [
      "type(l)"
     ],
     "language": "python",
     "metadata": {},
     "outputs": [
      {
       "output_type": "pyout",
       "prompt_number": 137,
       "text": [
        "numpy.ndarray"
       ]
      }
     ],
     "prompt_number": 137
    },
    {
     "cell_type": "code",
     "collapsed": false,
     "input": [],
     "language": "python",
     "metadata": {},
     "outputs": []
    }
   ],
   "metadata": {}
  }
 ]
}